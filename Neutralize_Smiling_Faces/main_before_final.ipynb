{
 "cells": [
  {
   "cell_type": "markdown",
   "metadata": {},
   "source": [
    "# MAIN\n",
    "\n",
    "You can neutralize the facial expressions of smiling people with codes below. I have used CK+ dataset while training the Conditional Difference Adversarial AutoEncoder. This model is proposed by Yuqian ZHOU, Bertram Emil SHI. The most important strength of this model is that it does not require too many training pairs to neutralize the face of a person whom it has never seen. For example, while training my model, I have utilized only 59 pairs. \n",
    "\n",
    "Before starting if you want to run the code, please make sure that you adjust the folder_adress variable correctly.\n",
    "\n"
   ]
  },
  {
   "cell_type": "code",
   "execution_count": 1,
   "metadata": {},
   "outputs": [],
   "source": [
    "#!/usr/bin/env python2\n",
    "# -*- coding: utf-8 -*-\n",
    "\"\"\"\n",
    "Created on Tue Apr 30 15:29:55 2019\n",
    "\n",
    "@author: can\n",
    "\"\"\"\n",
    "folder_address=\"/Users/can/Desktop/biometrics_final_shared\""
   ]
  },
  {
   "cell_type": "markdown",
   "metadata": {},
   "source": [
    "The code chunk below constructs the necessary tensors."
   ]
  },
  {
   "cell_type": "code",
   "execution_count": 2,
   "metadata": {},
   "outputs": [
    {
     "name": "stdout",
     "output_type": "stream",
     "text": [
      "WARNING:tensorflow:From /anaconda2/lib/python2.7/site-packages/tensorflow/python/framework/op_def_library.py:263: colocate_with (from tensorflow.python.framework.ops) is deprecated and will be removed in a future version.\n",
      "Instructions for updating:\n",
      "Colocations handled automatically by placer.\n"
     ]
    }
   ],
   "source": [
    "import os\n",
    "from IPython.display import Image,display\n",
    "import cv2\n",
    "import matplotlib.pyplot as plt\n",
    "import matplotlib.image as mpimg\n",
    "import numpy as np\n",
    "import random\n",
    "import tensorflow as tf\n",
    "from sklearn.metrics import confusion_matrix\n",
    "import time\n",
    "from datetime import timedelta\n",
    "import matplotlib.image as mpimg\n",
    "import math\n",
    "import glob\n",
    "tf.reset_default_graph()\n",
    "#%%\n",
    "#data read\n",
    "\n",
    "test_percentage=0.15\n",
    "os.chdir(folder_address)\n",
    "from numpy import genfromtxt\n",
    "new_emotional = genfromtxt('flat_emotional.csv', delimiter=',')\n",
    "emotional_pics=new_emotional.reshape(69,32,32)\n",
    "nums=np.array([tmp for tmp in range(len(emotional_pics))])\n",
    "#construct train and test sets\n",
    "random.seed(4)\n",
    "random.shuffle(nums)\n",
    "size_of_test_set=int(len(emotional_pics)*test_percentage)\n",
    "test_index=nums[:size_of_test_set]\n",
    "\n",
    "emotional_pics_test=emotional_pics[test_index]\n",
    "emotional_pics=np.delete(emotional_pics,test_index,0)\n",
    "\n",
    "\n",
    "new_neutral = genfromtxt('flat_neutral.csv', delimiter=',')\n",
    "neutral_pics=new_neutral.reshape(69,32,32)\n",
    "neutral_pics_test=neutral_pics[test_index]\n",
    "neutral_pics=np.delete(neutral_pics,test_index,0)\n",
    "\n",
    "\n",
    "\n",
    "#plt.imshow(neutral_pics_test[0], cmap='gray')\n",
    "#plt.imshow(emotional_pics_test[0], cmap='gray')\n",
    "\n",
    "#plt.imshow(neutral_pics[0], cmap='gray')\n",
    "#plt.imshow(emotional_pics[0], cmap='gray')\n",
    "#%%\n",
    "batch_size=1\n",
    "#conv_layer1\n",
    "\n",
    "filter_size1=5\n",
    "num_filters1=128\n",
    "\n",
    "#conv_layer2\n",
    "\n",
    "filter_size2=5\n",
    "num_filters2=256\n",
    "\n",
    "#conv_layer3\n",
    "\n",
    "filter_size3=5\n",
    "num_filters3=256\n",
    "\n",
    "#conv_layer4\n",
    "\n",
    "filter_size4=5\n",
    "num_filters4=512\n",
    "\n",
    "img_size=32\n",
    "img_size_flat=img_size*img_size\n",
    "img_shape=(img_size,img_size)\n",
    "num_channels=1\n",
    "\n",
    "latent_space=100\n",
    "#%%\n",
    "#add new input tensorname. In this way you can give decriptiptive names to the\n",
    "#tensors\n",
    "def new_weights(shape,tens_name):\n",
    "    return tf.Variable(tf.truncated_normal(shape, stddev=0.05),name=tens_name)\n",
    "\n",
    "def new_biases(length,tens_name):\n",
    "    return tf.Variable(tf.constant(0.05, shape=[length]),name=tens_name)\n",
    "    \n",
    "#%%\n",
    "def new_conv_layer(input,            # The previous layer.\n",
    "                   num_input_channels, # Num. channels in prev. layer.\n",
    "                   filter_size,        # Width and height of each filter.\n",
    "                   num_filters,        # Number of filters.\n",
    "                   name_the_block,\n",
    "                   use_pooling=True):  # Use 2x2 max-pooling.\n",
    "\n",
    "    # Shape of the filter-weights for the convolution.\n",
    "    # This format is determined by the TensorFlow API.\n",
    "    shape = [filter_size, filter_size, num_input_channels, num_filters]\n",
    "\n",
    "    # Create new weights aka. filters with the given shape.\n",
    "    weights = new_weights(shape=shape,tens_name=name_the_block)\n",
    "\n",
    "    # Create new biases, one for each filter.\n",
    "    biases = new_biases(length=num_filters,tens_name=name_the_block)\n",
    "\n",
    "    # Create the TensorFlow operation for convolution.\n",
    "    # Note the strides are set to 1 in all dimensions.\n",
    "    # The first and last stride must always be 1,\n",
    "    # because the first is for the image-number and\n",
    "    # the last is for the input-channel.\n",
    "    # But e.g. strides=[1, 2, 2, 1] would mean that the filter\n",
    "    # is moved 2 pixels across the x- and y-axis of the image.\n",
    "    # The padding is set to 'SAME' which means the input image\n",
    "    # is padded with zeroes so the size of the output is the same.\n",
    "    layer = tf.nn.conv2d(input=input,\n",
    "                         filter=weights,\n",
    "                         strides=[1, 1, 1, 1],\n",
    "                         padding='SAME')\n",
    "\n",
    "    # Add the biases to the results of the convolution.\n",
    "    # A bias-value is added to each filter-channel.\n",
    "    layer += biases\n",
    "\n",
    "    # Use pooling to down-sample the image resolution?\n",
    "    if use_pooling:\n",
    "        # This is 2x2 max-pooling, which means that we\n",
    "        # consider 2x2 windows and select the largest value\n",
    "        # in each window. Then we move 2 pixels to the next window.\n",
    "        layer = tf.nn.max_pool(value=layer,\n",
    "                               ksize=[1, 2, 2, 1],\n",
    "                               strides=[1, 2, 2, 1],\n",
    "                               padding='SAME')\n",
    "\n",
    "    # Rectified Linear Unit (ReLU).\n",
    "    # It calculates max(x, 0) for each input pixel x.\n",
    "    # This adds some non-linearity to the formula and allows us\n",
    "    # to learn more complicated functions.\n",
    "    \n",
    "    \n",
    "    #layer = tf.nn.relu(layer)\n",
    "    layer = tf.nn.leaky_relu(layer)\n",
    "\n",
    "    # Note that ReLU is normally executed before the pooling,\n",
    "    # but since relu(max_pool(x)) == max_pool(relu(x)) we can\n",
    "    # save 75% of the relu-operations by max-pooling first.\n",
    "\n",
    "    # We return both the resulting layer and the filter-weights\n",
    "    # because we will plot the weights later.\n",
    "    return layer, weights\n",
    "\n",
    "#%%\n",
    "    \n",
    "def flatten_layer(layer):\n",
    "    # Get the shape of the input layer.\n",
    "    layer_shape = layer.get_shape()\n",
    "\n",
    "    # The shape of the input layer is assumed to be:\n",
    "    # layer_shape == [num_images, img_height, img_width, num_channels]\n",
    "\n",
    "    # The number of features is: img_height * img_width * num_channels\n",
    "    # We can use a function from TensorFlow to calculate this.\n",
    "    num_features = layer_shape[1:4].num_elements()\n",
    "    \n",
    "    # Reshape the layer to [num_images, num_features].\n",
    "    # Note that we just set the size of the second dimension\n",
    "    # to num_features and the size of the first dimension to -1\n",
    "    # which means the size in that dimension is calculated\n",
    "    # so the total size of the tensor is unchanged from the reshaping.\n",
    "    layer_flat = tf.reshape(layer, [-1, num_features])\n",
    "\n",
    "    # The shape of the flattened layer is now:\n",
    "    # [num_images, img_height * img_width * num_channels]\n",
    "\n",
    "    # Return both the flattened layer and the number of features.\n",
    "    return layer_flat, num_features\n",
    "\n",
    "#%%\n",
    "def new_fc_layer(input,          # The previous layer.\n",
    "                 num_inputs,     # Num. inputs from prev. layer.\n",
    "                 num_outputs,    # Num. outputs.\n",
    "                 name_the_block,\n",
    "                 use_relu=True): # Use Rectified Linear Unit (ReLU)?\n",
    "\n",
    "    # Create new weights and biases.\n",
    "    weights = new_weights(shape=[num_inputs, num_outputs],tens_name=name_the_block)\n",
    "    biases = new_biases(length=num_outputs,tens_name=name_the_block)\n",
    "\n",
    "    # Calculate the layer as the matrix multiplication of\n",
    "    # the input and weights, and then add the bias-values.\n",
    "    layer = tf.matmul(input, weights) + biases\n",
    "\n",
    "    # Use ReLU?\n",
    "    if use_relu:\n",
    "        layer = tf.nn.relu(layer)\n",
    "\n",
    "    return layer\n",
    "\n",
    "#%% \n",
    "    #bu unpooling upsampling code'unu github'dan buldum nedir ne degildir aramak lazim.\n",
    "def UnPooling2x2ZeroFilled(x):\n",
    "    # https://github.com/tensorflow/tensorflow/issues/2169\n",
    "    out = tf.concat([x, tf.zeros_like(x)], 3)\n",
    "    out = tf.concat([out, tf.zeros_like(out)], 2)\n",
    "\n",
    "    sh = x.get_shape().as_list()\n",
    "    if None not in sh[1:]:\n",
    "        out_size = [-1, sh[1] * 2, sh[2] * 2, sh[3]]\n",
    "        return tf.reshape(out, out_size)\n",
    "    else:\n",
    "        shv = tf.shape(x)\n",
    "        ret = tf.reshape(out, tf.stack([-1, shv[1] * 2, shv[2] * 2, sh[3]]))\n",
    "        return ret    \n",
    "#%%\n",
    "def new_deconv_layer(prev_layer,              # The previous layer.\n",
    "                   num_input_channels, # Num. channels in prev. layer.\n",
    "                   filter_size,        # Width and height of each filter.\n",
    "                   num_filters,        # Number of filters.\n",
    "                   target_shape,\n",
    "                   name_the_block,\n",
    "                   use_upsampling=True,is_final=False):  # Use 2x2 max-pooling.\n",
    "\n",
    "    # Shape of the filter-weights for the convolution.\n",
    "    # This format is determined by the TensorFlow API.\n",
    "    shape = [filter_size, filter_size, num_filters, num_input_channels ]\n",
    "\n",
    "    # Create new weights aka. filters with the given shape.\n",
    "    weights = new_weights(shape=shape,tens_name=name_the_block)\n",
    "\n",
    "    # Create new biases, one for each filter.\n",
    "    biases = new_biases(length=num_filters,tens_name=name_the_block)\n",
    "\n",
    "    # Create the TensorFlow operation for convolution.\n",
    "    # Note the strides are set to 1 in all dimensions.\n",
    "    # The first and last stride must always be 1,\n",
    "    # because the first is for the image-number and\n",
    "    # the last is for the input-channel.\n",
    "    # But e.g. strides=[1, 2, 2, 1] would mean that the filter\n",
    "    # is moved 2 pixels across the x- and y-axis of the image.\n",
    "    # The padding is set to 'SAME' which means the input image\n",
    "    # is padded with zeroes so the size of the output is the same.\n",
    "    layer = tf.nn.conv2d_transpose(prev_layer,\n",
    "                         weights,\n",
    "                         output_shape=target_shape,\n",
    "                         #strides=[1, 2, 2, 1],\n",
    "                         strides=[1, 1, 1, 1],\n",
    "                         padding='SAME'\n",
    "                         )\n",
    "                         \n",
    "    #int(layer_deconv1.get_shape()[-1])\n",
    "    # Add the biases to the results of the convolution.\n",
    "    # A bias-value is added to each filter-channel.\n",
    "    layer += biases\n",
    "\n",
    "    # Use pooling to down-sample the image resolution?\n",
    "    if use_upsampling:\n",
    "        # This is 2x2 max-pooling, which means that we\n",
    "        # consider 2x2 windows and select the largest value\n",
    "        # in each window. Then we move 2 pixels to the next window.\n",
    "        layer = UnPooling2x2ZeroFilled(layer)\n",
    "\n",
    "    # Rectified Linear Unit (ReLU).\n",
    "    # It calculates max(x, 0) for each input pixel x.\n",
    "    # This adds some non-linearity to the formula and allows us\n",
    "    # to learn more complicated functions.\n",
    "    \n",
    "    if is_final==True:\n",
    "        layer = tf.nn.relu(layer)\n",
    "    else:\n",
    "        layer = tf.math.tanh(layer)\n",
    "\n",
    "    # Note that ReLU is normally executed before the pooling,\n",
    "    # but since relu(max_pool(x)) == max_pool(relu(x)) we can\n",
    "    # save 75% of the relu-operations by max-pooling first.\n",
    "\n",
    "    # We return both the resulting layer and the filter-weights\n",
    "    # because we will plot the weights later.\n",
    "    return layer, weights\n",
    "\n",
    "#%%\n",
    "\n",
    "x = tf.placeholder(tf.float32, shape=[batch_size, img_size,img_size], name='x')\n",
    "\n",
    "x_image = tf.reshape(x, [batch_size, img_size, img_size, num_channels]) \n",
    "#%%\n",
    "\n",
    "\n",
    "def E1(x_image,num_channels,filter_size1,num_filters1):\n",
    "    layer_conv1,weights_conv1=new_conv_layer(input=x_image,\n",
    "                                         num_input_channels=num_channels,\n",
    "                                         filter_size=filter_size1,\n",
    "                                         num_filters=num_filters1,\n",
    "                                         name_the_block=\"enc\",\n",
    "                                         use_pooling=True\n",
    "                                         )\n",
    "    return layer_conv1,weights_conv1\n",
    "\n",
    "layer_conv1,weights_conv1=E1(x_image,num_channels,filter_size1,num_filters1)\n",
    "layer_conv1    \n",
    "    \n",
    "    \n",
    "#this operation is done via E1 function.    \n",
    "#layer_conv1,weights_conv1=new_conv_layer(input=x_image,\n",
    "#                                         num_input_channels=num_channels,\n",
    "#                                         filter_size=filter_size1,\n",
    "#                                         num_filters=num_filters1,\n",
    "#                                         use_pooling=True\n",
    "#                                         )\n",
    "#layer_conv1\n",
    "#%%\n",
    "\n",
    "def E2(layer_conv1,num_filters1,num_filters2,num_filters3,filter_size2,\n",
    "       filter_size3,filter_size4,latent_space):\n",
    "    layer_conv2, weights_conv2 =new_conv_layer(input=layer_conv1,\n",
    "                   num_input_channels=num_filters1,\n",
    "                   filter_size=filter_size2,\n",
    "                   num_filters=num_filters2,\n",
    "                   name_the_block=\"enc\",\n",
    "                   use_pooling=True)\n",
    "\n",
    "    #layer_conv2\n",
    "\n",
    "    layer_conv3, weights_conv3 =new_conv_layer(input=layer_conv2,\n",
    "                   num_input_channels=num_filters2,\n",
    "                   filter_size=filter_size3,\n",
    "                   num_filters=num_filters3,\n",
    "                   name_the_block=\"enc\",\n",
    "                   use_pooling=True)\n",
    "\n",
    "    #layer_conv3\n",
    "\n",
    "    layer_conv4, weights_conv4 =new_conv_layer(input=layer_conv3,\n",
    "                   num_input_channels=num_filters3,\n",
    "                   filter_size=filter_size4,\n",
    "                   num_filters=num_filters4,\n",
    "                   name_the_block=\"enc\",\n",
    "                   use_pooling=False)\n",
    "\n",
    "    #layer_conv4\n",
    "\n",
    "    layer_flat,num_features=flatten_layer(layer_conv4)\n",
    "\n",
    "    latent_real=new_fc_layer(input=layer_flat,\n",
    "                          num_inputs=num_features,\n",
    "                          num_outputs=latent_space,\n",
    "                          name_the_block=\"enc\",\n",
    "                          use_relu=False)\n",
    "    #latent_layer\n",
    "    \n",
    "    return (layer_conv2, weights_conv2,layer_conv3, weights_conv3,\n",
    "            layer_conv4, weights_conv4,layer_flat,num_features,\n",
    "            latent_real)\n",
    "    \n",
    "    \n",
    "\n",
    "\n",
    "\"\"\"\n",
    "layer_conv2, weights_conv2 =new_conv_layer(input=layer_conv1,\n",
    "                   num_input_channels=num_filters1,\n",
    "                   filter_size=filter_size2,\n",
    "                   num_filters=num_filters2,\n",
    "                   use_pooling=True)\n",
    "\n",
    "layer_conv2\n",
    "\n",
    "layer_conv3, weights_conv3 =new_conv_layer(input=layer_conv2,\n",
    "                   num_input_channels=num_filters2,\n",
    "                   filter_size=filter_size3,\n",
    "                   num_filters=num_filters3,\n",
    "                   use_pooling=True)\n",
    "\n",
    "layer_conv3\n",
    "\n",
    "layer_conv4, weights_conv4 =new_conv_layer(input=layer_conv3,\n",
    "                   num_input_channels=num_filters3,\n",
    "                   filter_size=filter_size4,\n",
    "                   num_filters=num_filters4,\n",
    "                   use_pooling=True)\n",
    "\n",
    "layer_conv4\n",
    "\n",
    "layer_flat,num_features=flatten_layer(layer_conv4)\n",
    "\n",
    "latent_layer=new_fc_layer(input=layer_flat,\n",
    "                          num_inputs=num_features,\n",
    "                          num_outputs=latent_space,\n",
    "                          use_relu=False)\n",
    "latent_layer\n",
    "\"\"\"\n",
    "#use_relu false dan emin degilim activation function icin arastir paper'i\n",
    "\n",
    "(layer_conv2, weights_conv2,layer_conv3, weights_conv3,\n",
    "            layer_conv4, weights_conv4,layer_flat,num_features,\n",
    "            latent_real)=E2(layer_conv1,num_filters1,num_filters2,num_filters3,filter_size2,\n",
    "       filter_size3,filter_size4,latent_space)\n",
    "#%%\n",
    "\n",
    "def DiscriminatorE(latent_vector,latent_space,reuse=False):\n",
    "    with tf.variable_scope('DiscriminatorE') as scope:\n",
    "        if (reuse):\n",
    "            tf.get_variable_scope().reuse_variables()    \n",
    "    \n",
    "        #First Fully Connected Layer\n",
    "        W_fc1 = tf.get_variable('discE_wfc1', [100, 256], initializer=tf.truncated_normal_initializer(stddev=0.02))\n",
    "        b_fc1 = tf.get_variable('discE_bfc1', [256], initializer=tf.constant_initializer(0))\n",
    "        latent_vector2 = tf.nn.leaky_relu(tf.matmul(latent_vector, W_fc1) + b_fc1)\n",
    "        \n",
    "        #Second Fully Connected Layer\n",
    "        W_fc2 = tf.get_variable('discE_wfc2', [256, 256], initializer=tf.truncated_normal_initializer(stddev=0.02))\n",
    "        b_fc2 = tf.get_variable('discE_bfc2', [256], initializer=tf.constant_initializer(0))\n",
    "        latent_vector3 = tf.nn.leaky_relu(tf.matmul(latent_vector2, W_fc2) + b_fc2)\n",
    "        \n",
    "        #Third Fully Connected Layer\n",
    "        W_fc3 = tf.get_variable('discE_wfc3', [256, 256], initializer=tf.truncated_normal_initializer(stddev=0.02))\n",
    "        b_fc3 = tf.get_variable('discE_bfc3', [256], initializer=tf.constant_initializer(0))\n",
    "        latent_vector4 = tf.nn.leaky_relu(tf.matmul(latent_vector3, W_fc3) + b_fc3)\n",
    "        \n",
    "        #Last Fully Connected Layer\n",
    "        W_fc4 = tf.get_variable('discE_wfc4', [256, 1], initializer=tf.truncated_normal_initializer(stddev=0.02))\n",
    "        b_fc4 = tf.get_variable('discE_bfc4', [1], initializer=tf.constant_initializer(0))\n",
    "        latent_real_fake = (tf.matmul(latent_vector4, W_fc4) + b_fc4)\n",
    "\n",
    "    return latent_real_fake\n",
    "#%%\n",
    "#latent real_to_decide and latent_fake_to_decide must be sent to\n",
    "    #tf.nn.sigmoid_cross_entropy_with_logits(logits = latent_real_to_decide, labels = tf.ones_like(Dg))\n",
    "    #tf.nn.sigmoid_cross_entropy_with_logits(logits = latent_fake_to_decide, labels = tf.ones_like(Dg))\n",
    "    #you need to think about them, look at gan.py script but you need to work on two lines. \n",
    "\n",
    "latent_image_to_decide=DiscriminatorE(latent_real,latent_space) \n",
    "\n",
    "latent_norm_dist_placehoder=tf.placeholder(tf.float32, [batch_size, latent_space])\n",
    "\n",
    "latent_norm_real_to_decide=DiscriminatorE(latent_norm_dist_placehoder,latent_space,reuse=True)\n",
    "#%%\n",
    "def G1(latent_real,latent_space):\n",
    "    FC_d=new_fc_layer(input=latent_real,          # The previous layer.\n",
    "                     num_inputs=latent_space,     # Num. inputs from prev. layer.\n",
    "                     num_outputs=4*4*512,    # Num. outputs.\n",
    "                     name_the_block=\"dec\",\n",
    "                     use_relu=True)\n",
    "    FC_d = tf.reshape(FC_d, [batch_size,4, 4, 512])\n",
    "    \n",
    "    the_shape=[batch_size,4,4,512]\n",
    "    \n",
    "    layer_deconv1,weights_deconv1=new_deconv_layer(FC_d,num_input_channels=512,\n",
    "                     filter_size=5,num_filters=512,target_shape=the_shape,\n",
    "                     name_the_block=\"dec\",\n",
    "                     use_upsampling=True,is_final=False)\n",
    "    \n",
    "    the_shape=[batch_size,8,8,256]\n",
    "    \n",
    "    layer_deconv2,weights_deconv2=new_deconv_layer(layer_deconv1,num_input_channels=512,\n",
    "                     filter_size=5,num_filters=256,target_shape=the_shape,\n",
    "                     name_the_block=\"dec\",\n",
    "                     use_upsampling=True,is_final=False)\n",
    "    \n",
    "    the_shape=[batch_size,16,16,128]\n",
    "    \n",
    "    layer_deconv3,weights_deconv3=new_deconv_layer(layer_deconv2,num_input_channels=256,\n",
    "                     filter_size=5,num_filters=128,target_shape=the_shape,\n",
    "                     name_the_block=\"dec\",\n",
    "                     use_upsampling=False,is_final=False)\n",
    "    \n",
    "    return FC_d,layer_deconv1,layer_deconv2,layer_deconv3\n",
    "\n",
    "FC_d,layer_deconv1,layer_deconv2,layer_deconv3=G1(latent_real,latent_space)\n",
    "\n",
    "\n",
    "\n",
    "#%%\n",
    "def G2(layer_deconv3,layer_conv1):\n",
    "    \n",
    "    forward=layer_deconv3+layer_conv1\n",
    "    forward=UnPooling2x2ZeroFilled(forward)\n",
    "    \n",
    "    the_shape=[batch_size,32,32,1]\n",
    "    layer_deconv4,weights_deconv4=new_deconv_layer(forward,num_input_channels=128,\n",
    "                     filter_size=5,num_filters=1,target_shape=the_shape,\n",
    "                     name_the_block=\"dec\",\n",
    "                     use_upsampling=False,is_final=True)\n",
    "    return layer_deconv4\n",
    "\n",
    "\n",
    "layer_deconv4=G2(layer_deconv3,layer_conv1)\n",
    "\n",
    "\n",
    "#%%\n",
    "def conv2d(x, W):\n",
    "  return tf.nn.conv2d(input=x, filter=W, strides=[1, 1, 1, 1], padding='SAME')\n",
    "\n",
    "def avg_pool_2x2(x):\n",
    "  return tf.nn.avg_pool(x, ksize=[1, 2, 2, 1], strides=[1, 2, 2, 1], padding='SAME')\n",
    "#%%\n",
    "def DiscriminatorG(generated_pic,latent_space,reuse=False):\n",
    "    with tf.variable_scope('DiscriminatorG') as scope:\n",
    "        if (reuse):\n",
    "            tf.get_variable_scope().reuse_variables()    \n",
    "    \n",
    "        #First Fully Connected Layer\n",
    "        DGW_fc1 = tf.get_variable('discG_wfc1', [5,5,1,32], initializer=tf.truncated_normal_initializer(stddev=0.02))\n",
    "        DGb_fc1 = tf.get_variable('discG_bfc1', [32], initializer=tf.constant_initializer(0))\n",
    "        generated_pic_conv1 = tf.nn.leaky_relu(conv2d(generated_pic, DGW_fc1) + DGb_fc1)\n",
    "        generated_pic_pool1 = avg_pool_2x2(generated_pic_conv1)\n",
    "        \n",
    "        #Second Fully Connected Layer\n",
    "        DGW_fc2 = tf.get_variable('discG_wfc2', [5,5,32,64], initializer=tf.truncated_normal_initializer(stddev=0.02))\n",
    "        DGb_fc2 = tf.get_variable('discG_bfc2', [64], initializer=tf.constant_initializer(0))\n",
    "        generated_pic_conv2 = tf.nn.leaky_relu(conv2d(generated_pic_pool1, DGW_fc2) + DGb_fc2)\n",
    "        generated_pic_pool2 = avg_pool_2x2(generated_pic_conv2)\n",
    "        \n",
    "        #Third Fully Connected Layer\n",
    "        DGW_fc3 = tf.get_variable('discG_wfc3', [5,5,64,128], initializer=tf.truncated_normal_initializer(stddev=0.02))\n",
    "        DGb_fc3 = tf.get_variable('discG_bfc3', [128], initializer=tf.constant_initializer(0))\n",
    "        generated_pic_conv3 = tf.nn.leaky_relu(conv2d(generated_pic_pool2, DGW_fc3) + DGb_fc3)\n",
    "        generated_pic_pool3 = avg_pool_2x2(generated_pic_conv3)        \n",
    "        \n",
    "        #Last Fully Connected Layer\n",
    "        DGW_fc4 = tf.get_variable('discG_wfc4', [5,5,128, 1], initializer=tf.truncated_normal_initializer(stddev=0.02))\n",
    "        DGb_fc4 = tf.get_variable('discG_bfc4', [128], initializer=tf.constant_initializer(0))\n",
    "        picture_real_fake = tf.nn.leaky_relu(conv2d(generated_pic_pool3, DGW_fc4) + DGb_fc4)\n",
    "        \n",
    "        \n",
    "        picture_flat,num_features2=flatten_layer(picture_real_fake)\n",
    "        \n",
    "        #Last Fully Connected Layer\n",
    "        DW_fc5 = tf.get_variable('discG_wfc5', [2048, 1], initializer=tf.truncated_normal_initializer(stddev=0.02))\n",
    "        Db_fc5 = tf.get_variable('discG_bfc5', [1], initializer=tf.constant_initializer(0))\n",
    "        picture_real_fake_decision = (tf.matmul(picture_flat, DW_fc5) + Db_fc5)\n",
    "        \n",
    "        \n",
    "        \n",
    "        \n",
    "\n",
    "    return picture_real_fake_decision\n",
    "\n",
    "\n",
    "\n",
    "#%%\n",
    "produced_image_to_decide=DiscriminatorG(layer_deconv4,latent_space) \n",
    "\n",
    "actual_output_image_placehoder=tf.placeholder(tf.float32, [batch_size, 32,32,1])\n",
    "\n",
    "actual_image_to_decide=DiscriminatorG(actual_output_image_placehoder,latent_space,reuse=True)    \n",
    "\n",
    "\n",
    "\n",
    "#%%\n",
    "#declare the losses\n",
    "\n",
    "#Discriminator G\n",
    "Disc_G_loss_real=tf.reduce_mean(tf.nn.sigmoid_cross_entropy_with_logits(logits = actual_image_to_decide, labels = tf.ones_like(actual_image_to_decide)))\n",
    "Disc_G_loss_produced=tf.reduce_mean(tf.nn.sigmoid_cross_entropy_with_logits(logits = produced_image_to_decide, labels = tf.zeros_like(produced_image_to_decide)))\n",
    "Loss_Disc_G=Disc_G_loss_real+Disc_G_loss_produced\n",
    "\n",
    "\n",
    "#Discriminator E\n",
    "Disc_E_loss_real=tf.reduce_mean(tf.nn.sigmoid_cross_entropy_with_logits(logits = latent_norm_real_to_decide, labels = tf.ones_like(latent_norm_real_to_decide)))\n",
    "Disc_E_loss_from_picture=tf.reduce_mean(tf.nn.sigmoid_cross_entropy_with_logits(logits = latent_image_to_decide, labels = tf.zeros_like(latent_image_to_decide)))\n",
    "Loss_Disc_E=Disc_E_loss_real+Disc_E_loss_from_picture\n",
    "\n",
    "##E1E2loss\n",
    "E1E2_loss = tf.reduce_mean(tf.nn.sigmoid_cross_entropy_with_logits(logits = latent_image_to_decide, labels = tf.ones_like(latent_image_to_decide))) # ensure forward compatibility: function needs to have logits and labels args explicitly used\n",
    "\n",
    "##D1D2loss\n",
    "D1D2_loss = tf.reduce_mean(tf.nn.sigmoid_cross_entropy_with_logits(logits = produced_image_to_decide, labels = tf.ones_like(produced_image_to_decide))) # ensure forward compatibility: function needs to have logits and labels args explicitly used\n",
    "\n",
    "#L2 loss between produced image and real desired image\n",
    "\n",
    "#L2_loss = tf.nn.l2_loss(actual_output_image_placehoder - layer_deconv4)\n",
    "#L2_loss = 1-tf.image.ssim(actual_output_image_placehoder,layer_deconv4,max_val=255)\n",
    "L2_loss = tf.reduce_mean(tf.square(actual_output_image_placehoder - layer_deconv4))\n",
    "\n",
    "\n",
    "\n",
    "#%%\n",
    "\n",
    "tvars = tf.trainable_variables()\n",
    "d_vars_E = [var for var in tvars if 'discE' in var.name]\n",
    "d_vars_G = [var for var in tvars if 'discG' in var.name]\n",
    "enc_vars = [var for var in tvars if 'enc' in var.name]\n",
    "dec_vars = [var for var in tvars if 'dec' in var.name]\n",
    "#%%\n",
    "\n",
    "loss_ED = (L2_loss * 1) + (E1E2_loss * 0.01) + (D1D2_loss * 0.001)\n",
    "loss_Disc_E_in_obj = Loss_Disc_E * 0.01\n",
    "loss_Disc_G_in_obj = Loss_Disc_G * 0.001\n",
    "#%%\n",
    "adamautoenc = tf.train.AdamOptimizer(learning_rate=0.001)\n",
    "adamdisc    = tf.train.AdamOptimizer(learning_rate=0.0001) \n",
    "\n",
    "trainer_autoenc=adamautoenc.minimize(loss_ED,var_list=enc_vars + dec_vars)\n",
    "trainer_discE=adamdisc.minimize(loss_Disc_E_in_obj,var_list=d_vars_E)\n",
    "trainer_discG=adamdisc.minimize(loss_Disc_G_in_obj,var_list=d_vars_G)"
   ]
  },
  {
   "cell_type": "markdown",
   "metadata": {},
   "source": [
    "Necessary tensors are constructed, now we can start the training. By setting the value of \"iterations\" variable to a huge number in the code chunk below, you can train the model. Note that training will take considerable amount of time. I have set it to 1 in the code chunk in order to show that the model can be trained. However, while neutralizing the faces, I will utilize the model that I have already constructed. Hence, if you want to run this model on your own image set, you should train your model."
   ]
  },
  {
   "cell_type": "code",
   "execution_count": 3,
   "metadata": {},
   "outputs": [
    {
     "name": "stdout",
     "output_type": "stream",
     "text": [
      "train error:\n",
      "1626.9681137860832\n",
      "test error:\n",
      "1558.1762451171876\n"
     ]
    }
   ],
   "source": [
    "#%%\n",
    "    #now batch size=1, you have to feed the pictures randomly, and \n",
    "    #regulate the update order of autoenc and discriminators.\n",
    "sess = tf.Session()\n",
    "sess.run(tf.global_variables_initializer())\n",
    "iterations = 1\n",
    "how_many_with_this_batch_size=int(len(emotional_pics)/batch_size)\n",
    "counter=0\n",
    "disc_update=False\n",
    "average_train_error=np.array(0)\n",
    "average_test_error=np.array(0)\n",
    "for i in range(iterations):\n",
    "    #print i\n",
    "    counter=0\n",
    "    nums=np.array([tmp for tmp in range(len(emotional_pics))])\n",
    "    random.shuffle(nums)\n",
    "    train_error_generator=np.zeros(len(emotional_pics))\n",
    "    test_error_generator=np.zeros(len(emotional_pics_test))\n",
    "    for j in range(how_many_with_this_batch_size):\n",
    "        #print j\n",
    "        focused=nums[counter:(counter+batch_size)]\n",
    "        real_image_input=emotional_pics[focused,]\n",
    "        real_image_input  = real_image_input.reshape(batch_size,32,32)\n",
    "        real_image_output = neutral_pics[focused,]\n",
    "        real_image_output  = real_image_output.reshape(batch_size,32,32,1)        \n",
    "        latent_normal=np.random.normal(0,1,100*batch_size)\n",
    "        #latent_normal=np.random.uniform(-1,1,100*batch_size)\n",
    "        latent_normal=latent_normal.reshape(batch_size,100)\n",
    "        if disc_update== True:\n",
    "            _,loss_Disc_G_follow = sess.run([trainer_discG, loss_Disc_G_in_obj],feed_dict={x:real_image_input,actual_output_image_placehoder:real_image_output}) #Update the discriminatorG\n",
    "            _,loss_Disc_E_follow = sess.run([trainer_discE, loss_Disc_E_in_obj],feed_dict={latent_norm_dist_placehoder:latent_normal,x:real_image_input}) #Update the discriminatorE\n",
    "            disc_update=False            \n",
    "        else:\n",
    "            _,loss_ED_follow = sess.run([trainer_autoenc, loss_ED],feed_dict={x:real_image_input,actual_output_image_placehoder:real_image_output}) #Update the autoenc \n",
    "            disc_update=True\n",
    "        #train_error_generator[j]=loss_ED_follow  \n",
    "              \n",
    "               \n",
    "        counter=counter+batch_size\n",
    "\n",
    "    counter=0\n",
    "    for j in range(how_many_with_this_batch_size):\n",
    "        #print j\n",
    "        focused=nums[counter:(counter+batch_size)]\n",
    "        real_image_input=emotional_pics[focused,]\n",
    "        real_image_input  = real_image_input.reshape(batch_size,32,32)\n",
    "        real_image_output = neutral_pics[focused,]\n",
    "        real_image_output  = real_image_output.reshape(batch_size,32,32,1)        \n",
    "        latent_normal=np.random.normal(0,1,100*batch_size)\n",
    "        #latent_normal=np.random.uniform(-1,1,100*batch_size)\n",
    "        latent_normal=latent_normal.reshape(batch_size,100)\n",
    "        \n",
    "        #_,loss_Disc_G_follow = sess.run([trainer_discG, loss_Disc_G_in_obj],feed_dict={x:real_image_input,actual_output_image_placehoder:real_image_output}) #Update the discriminatorG\n",
    "        #_,loss_Disc_E_follow = sess.run([trainer_discE, loss_Disc_E_in_obj],feed_dict={latent_norm_dist_placehoder:latent_normal,x:real_image_input}) #Update the discriminatorE\n",
    "                        \n",
    "        \n",
    "        train_error_generator[j] = sess.run(loss_ED,feed_dict={x:real_image_input,actual_output_image_placehoder:real_image_output}) #train loss \n",
    "            \n",
    "        #train_error_generator[j]=loss_ED_follow  \n",
    "              \n",
    "               \n",
    "        counter=counter+batch_size\n",
    "\n",
    "\n",
    "    for j in range(len(emotional_pics_test)):\n",
    "        #print j\n",
    "        real_image_input=emotional_pics_test[j,]\n",
    "        real_image_input  = real_image_input.reshape(batch_size,32,32)\n",
    "        real_image_output = neutral_pics_test[j,]\n",
    "        real_image_output  = real_image_output.reshape(batch_size,32,32,1)        \n",
    "        latent_normal=np.random.normal(0,1,100*batch_size)\n",
    "        #latent_normal=np.random.uniform(-1,1,100*batch_size)\n",
    "        latent_normal=latent_normal.reshape(batch_size,100)\n",
    "        \n",
    "        #_,loss_Disc_G_follow = sess.run([trainer_discG, loss_Disc_G_in_obj],feed_dict={x:real_image_input,actual_output_image_placehoder:real_image_output}) #Update the discriminatorG\n",
    "        #_,loss_Disc_E_follow = sess.run([trainer_discE, loss_Disc_E_in_obj],feed_dict={latent_norm_dist_placehoder:latent_normal,x:real_image_input}) #Update the discriminatorE\n",
    "                        \n",
    "        \n",
    "        test_error_generator[j] = sess.run(loss_ED,feed_dict={x:real_image_input,actual_output_image_placehoder:real_image_output}) #train loss\n",
    "        \n",
    "     \n",
    "    print \"train error:\"\n",
    "    average_train_error=np.append(average_train_error,np.mean(train_error_generator))\n",
    "    print (average_train_error[i+1])\n",
    "    print \"test error:\"\n",
    "    average_test_error=np.append(average_test_error,np.mean(test_error_generator))\n",
    "    print (average_test_error[i+1])\n",
    "    #if average_test_error[i+1] < 0.17: if you are using SSIM as loss function\n",
    "    if average_test_error[i+1] < 500 and average_train_error[i+1] < 500 :\n",
    "    #if average_test_error[i+1] < 480:\n",
    "      break\n",
    "#%%\n",
    "\n"
   ]
  },
  {
   "cell_type": "markdown",
   "metadata": {},
   "source": [
    "Training is done.  As I already explained, instead of training the model from scratch, I will directly utilize the model on my computer."
   ]
  },
  {
   "cell_type": "code",
   "execution_count": 4,
   "metadata": {},
   "outputs": [
    {
     "name": "stdout",
     "output_type": "stream",
     "text": [
      "WARNING:tensorflow:From /anaconda2/lib/python2.7/site-packages/tensorflow/python/training/saver.py:1266: checkpoint_exists (from tensorflow.python.training.checkpoint_management) is deprecated and will be removed in a future version.\n",
      "Instructions for updating:\n",
      "Use standard file APIs to check for files with this prefix.\n",
      "INFO:tensorflow:Restoring parameters from modelfinal.ckpt\n"
     ]
    }
   ],
   "source": [
    "saver = tf.train.Saver()\n",
    "os.chdir(folder_address + \"/trained_model/average_tr_te_error_less500\")\n",
    "#os.chdir(folder_address + \"/trained_model/overfit\")\n",
    "saver.restore(sess, \"modelfinal.ckpt\")\n",
    "#saver.restore(sess, \"modeloverfit.ckpt\")"
   ]
  },
  {
   "cell_type": "markdown",
   "metadata": {},
   "source": [
    "The weights in the model are set. Let' s define some functions in order to visualize the images."
   ]
  },
  {
   "cell_type": "code",
   "execution_count": 5,
   "metadata": {},
   "outputs": [],
   "source": [
    "def visualize_wild_image(index,folder_address):\n",
    "    instances = glob.glob(folder_address+\"/wild_sample_images_preprocessed//*\")\n",
    "    inst=instances[index]\n",
    "    wild_img = cv2.imread(inst,cv2.IMREAD_GRAYSCALE)\n",
    "    plt.imshow(wild_img, cmap='gray')\n",
    "\n",
    "def wild_image_neutralize(index,folder_address):\n",
    "    instances = glob.glob(folder_address+\"/wild_sample_images_preprocessed//*\")\n",
    "    inst=instances[index]\n",
    "    wild_img = cv2.imread(inst,cv2.IMREAD_GRAYSCALE)\n",
    "    wild_img=wild_img.reshape(batch_size,32,32)\n",
    "    temp=sess.run(layer_deconv4, feed_dict={x:wild_img})\n",
    "    my_i = temp.squeeze()\n",
    "    plt.imshow(my_i, cmap='gray')\n",
    "    \n",
    "def save_wild(index,folder_address):\n",
    "    instances = glob.glob(folder_address+\"/wild_sample_images_preprocessed//*\")\n",
    "    inst=instances[index]\n",
    "    tmp_name=inst[-6:]\n",
    "    if tmp_name[0]!=\"/\":\n",
    "        tmp_name=int(tmp_name[:2])\n",
    "    else:\n",
    "        tmp_name=int(tmp_name[1])\n",
    "        \n",
    "    \n",
    "    wild_img = cv2.imread(inst,cv2.IMREAD_GRAYSCALE)\n",
    "    wild_img=wild_img.reshape(batch_size,32,32)\n",
    "    temp=sess.run(layer_deconv4, feed_dict={x:wild_img})\n",
    "    my_i = temp.squeeze()\n",
    "    cv2.imwrite(folder_address+\"/wild_neutralized/\"+str(tmp_name)+\"generated.png\",my_i)\n",
    "    \n",
    "\n",
    "def visualize_produced_image_train(tr_index):\n",
    "    real_image_input=emotional_pics[tr_index,]\n",
    "    real_image_input  = real_image_input.reshape(batch_size,32,32)\n",
    "    temp=sess.run(layer_deconv4, feed_dict={x:real_image_input})\n",
    "    my_i = temp.squeeze()\n",
    "    plt.imshow(my_i, cmap='gray')\n",
    "    \n",
    "def visualize_produced_image_test(te_index):\n",
    "    real_image_input=emotional_pics_test[te_index,]\n",
    "    real_image_input  = real_image_input.reshape(batch_size,32,32)\n",
    "    temp=sess.run(layer_deconv4, feed_dict={x:real_image_input})\n",
    "    my_i = temp.squeeze()\n",
    "    plt.imshow(my_i, cmap='gray')\n",
    "    \n",
    "def save_tr_images(tr_index):\n",
    "    real_image_input=emotional_pics[tr_index,]\n",
    "    real_image_input  = real_image_input.reshape(batch_size,32,32)\n",
    "    temp=sess.run(layer_deconv4, feed_dict={x:real_image_input})\n",
    "    my_i = temp.squeeze()\n",
    "    cv2.imwrite(folder_address+\"/images_for_progress/realmodel/tr/\"+str(tr_index)+\"generated.png\",my_i)\n",
    "    cv2.imwrite(folder_address+\"/images_for_progress/realmodel/tr/\"+str(tr_index)+\"emotional.png\",emotional_pics[tr_index,])    \n",
    "    cv2.imwrite(folder_address+\"/images_for_progress/realmodel/tr/\"+str(tr_index)+\"neutral.png\",neutral_pics[tr_index,])\n",
    "    \n",
    "def save_te_images(te_index):\n",
    "    real_image_input=emotional_pics_test[te_index,]\n",
    "    real_image_input  = real_image_input.reshape(batch_size,32,32)\n",
    "    temp=sess.run(layer_deconv4, feed_dict={x:real_image_input})\n",
    "    my_i = temp.squeeze()\n",
    "    cv2.imwrite(folder_address+\"/images_for_progress/realmodel/test/\"+str(te_index)+\"generated.png\",my_i)\n",
    "    cv2.imwrite(folder_address+\"/images_for_progress/realmodel/test/\"+str(te_index)+\"emotional.png\",emotional_pics_test[te_index,])    \n",
    "    cv2.imwrite(folder_address+\"/images_for_progress/realmodel/test/\"+str(te_index)+\"neutral.png\",neutral_pics_test[te_index,])\n",
    "#%%\n",
    "\n"
   ]
  },
  {
   "cell_type": "markdown",
   "metadata": {},
   "source": [
    "Let's look at a person from training set.\n",
    "Below, there is an image of smiling person."
   ]
  },
  {
   "cell_type": "code",
   "execution_count": 23,
   "metadata": {},
   "outputs": [
    {
     "data": {
      "text/plain": [
       "<matplotlib.image.AxesImage at 0x1a51efc7d0>"
      ]
     },
     "execution_count": 23,
     "metadata": {},
     "output_type": "execute_result"
    },
    {
     "data": {
      "image/png": "[encoded data removed]",
      "text/plain": [
       "<Figure size 432x288 with 1 Axes>"
      ]
     },
     "metadata": {
      "needs_background": "light"
     },
     "output_type": "display_data"
    }
   ],
   "source": [
    "#%%\n",
    "#TRAINIG   \n",
    "tr_ind=23\n",
    "#emotional train sample\n",
    "plt.imshow(emotional_pics[tr_ind,], cmap='gray')"
   ]
  },
  {
   "cell_type": "markdown",
   "metadata": {},
   "source": [
    "Now, let' s look at the original neutral expression of this person."
   ]
  },
  {
   "cell_type": "code",
   "execution_count": 24,
   "metadata": {},
   "outputs": [
    {
     "data": {
      "text/plain": [
       "<matplotlib.image.AxesImage at 0x1a51fa7d90>"
      ]
     },
     "execution_count": 24,
     "metadata": {},
     "output_type": "execute_result"
    },
    {
     "data": {
      "image/png": "[encoded data removed]",
      "text/plain": [
       "<Figure size 432x288 with 1 Axes>"
      ]
     },
     "metadata": {
      "needs_background": "light"
     },
     "output_type": "display_data"
    }
   ],
   "source": [
    "#neutral train sample\n",
    "plt.imshow(neutral_pics[tr_ind,], cmap='gray')"
   ]
  },
  {
   "cell_type": "markdown",
   "metadata": {},
   "source": [
    "Finally, the generated image by the model."
   ]
  },
  {
   "cell_type": "code",
   "execution_count": 25,
   "metadata": {},
   "outputs": [
    {
     "data": {
      "image/png": "[encoded data removed]",
      "text/plain": [
       "<Figure size 432x288 with 1 Axes>"
      ]
     },
     "metadata": {
      "needs_background": "light"
     },
     "output_type": "display_data"
    }
   ],
   "source": [
    "#neutralized train sample\n",
    "visualize_produced_image_train(tr_ind)"
   ]
  },
  {
   "cell_type": "markdown",
   "metadata": {},
   "source": [
    "As you can see, model can neutralize the expression of person successfully. However, This person was in the training set. Let' s also look at an example from the test set.\n",
    "\n",
    "Here is the original smiling person whom model has not seen before."
   ]
  },
  {
   "cell_type": "code",
   "execution_count": 26,
   "metadata": {},
   "outputs": [
    {
     "data": {
      "text/plain": [
       "<matplotlib.image.AxesImage at 0x1a52235b90>"
      ]
     },
     "execution_count": 26,
     "metadata": {},
     "output_type": "execute_result"
    },
    {
     "data": {
      "image/png": "[encoded data removed]",
      "text/plain": [
       "<Figure size 432x288 with 1 Axes>"
      ]
     },
     "metadata": {
      "needs_background": "light"
     },
     "output_type": "display_data"
    }
   ],
   "source": [
    "#TEST\n",
    "te_ind=6\n",
    "#emotional test sample\n",
    "plt.imshow(emotional_pics_test[te_ind,], cmap='gray')"
   ]
  },
  {
   "cell_type": "markdown",
   "metadata": {},
   "source": [
    "Now, let' s look at the original neutral expression of this person."
   ]
  },
  {
   "cell_type": "code",
   "execution_count": 27,
   "metadata": {},
   "outputs": [
    {
     "data": {
      "text/plain": [
       "<matplotlib.image.AxesImage at 0x1a522d0190>"
      ]
     },
     "execution_count": 27,
     "metadata": {},
     "output_type": "execute_result"
    },
    {
     "data": {
      "image/png": "[encoded data removed]",
      "text/plain": [
       "<Figure size 432x288 with 1 Axes>"
      ]
     },
     "metadata": {
      "needs_background": "light"
     },
     "output_type": "display_data"
    }
   ],
   "source": [
    "#neutral test sample\n",
    "plt.imshow(neutral_pics_test[te_ind,], cmap='gray')"
   ]
  },
  {
   "cell_type": "markdown",
   "metadata": {},
   "source": [
    "Finally, the generated image by the model."
   ]
  },
  {
   "cell_type": "code",
   "execution_count": 28,
   "metadata": {},
   "outputs": [
    {
     "data": {
      "image/png": "[encoded data removed]",
      "text/plain": [
       "<Figure size 432x288 with 1 Axes>"
      ]
     },
     "metadata": {
      "needs_background": "light"
     },
     "output_type": "display_data"
    }
   ],
   "source": [
    "#neutralized test sample\n",
    "visualize_produced_image_test(te_ind)"
   ]
  },
  {
   "cell_type": "markdown",
   "metadata": {},
   "source": [
    "Despite small artifacts, the expression is neutralized. However, the model is not always good at neutralizing the faces of person who are in the test set. Another example;"
   ]
  },
  {
   "cell_type": "code",
   "execution_count": 35,
   "metadata": {},
   "outputs": [
    {
     "data": {
      "text/plain": [
       "<matplotlib.image.AxesImage at 0x1a52abe710>"
      ]
     },
     "execution_count": 35,
     "metadata": {},
     "output_type": "execute_result"
    },
    {
     "data": {
      "image/png": "[encoded data removed]",
      "text/plain": [
       "<Figure size 432x288 with 1 Axes>"
      ]
     },
     "metadata": {
      "needs_background": "light"
     },
     "output_type": "display_data"
    }
   ],
   "source": [
    "#TEST\n",
    "te_ind=0\n",
    "#emotional test sample\n",
    "plt.imshow(emotional_pics_test[te_ind,], cmap='gray')"
   ]
  },
  {
   "cell_type": "markdown",
   "metadata": {},
   "source": [
    "Now, let' s look at the original neutral expression of this person."
   ]
  },
  {
   "cell_type": "code",
   "execution_count": 36,
   "metadata": {},
   "outputs": [
    {
     "data": {
      "text/plain": [
       "<matplotlib.image.AxesImage at 0x1a52a45290>"
      ]
     },
     "execution_count": 36,
     "metadata": {},
     "output_type": "execute_result"
    },
    {
     "data": {
      "image/png": "[encoded data removed]",
      "text/plain": [
       "<Figure size 432x288 with 1 Axes>"
      ]
     },
     "metadata": {
      "needs_background": "light"
     },
     "output_type": "display_data"
    }
   ],
   "source": [
    "#neutral test sample\n",
    "plt.imshow(neutral_pics_test[te_ind,], cmap='gray')"
   ]
  },
  {
   "cell_type": "markdown",
   "metadata": {},
   "source": [
    "Finally, the generated image by the model."
   ]
  },
  {
   "cell_type": "code",
   "execution_count": 37,
   "metadata": {},
   "outputs": [
    {
     "data": {
      "image/png": "[encoded data removed]",
      "text/plain": [
       "<Figure size 432x288 with 1 Axes>"
      ]
     },
     "metadata": {
      "needs_background": "light"
     },
     "output_type": "display_data"
    }
   ],
   "source": [
    "#neutralized test sample\n",
    "visualize_produced_image_test(te_ind)"
   ]
  },
  {
   "cell_type": "markdown",
   "metadata": {},
   "source": [
    "This time model disrupts the image considerably while neutralizing the expression. Additionally, there are some cases in which model cannot neutralize the expression. \n",
    "\n",
    "All these images can be found in CK+ database. Note that they were taken in a controlled environment. It would be also interesting to see the capability of model for wild pictures. Below you can see the original picture."
   ]
  },
  {
   "cell_type": "code",
   "execution_count": 42,
   "metadata": {},
   "outputs": [
    {
     "data": {
      "image/png": "[encoded data removed]",
      "text/plain": [
       "<Figure size 432x288 with 1 Axes>"
      ]
     },
     "metadata": {
      "needs_background": "light"
     },
     "output_type": "display_data"
    }
   ],
   "source": [
    "#WILD\n",
    "visualize_wild_image(2,folder_address)"
   ]
  },
  {
   "cell_type": "markdown",
   "metadata": {},
   "source": [
    "Neutralized picture can be seen below."
   ]
  },
  {
   "cell_type": "code",
   "execution_count": 43,
   "metadata": {},
   "outputs": [
    {
     "data": {
      "image/png": "[encoded data removed]",
      "text/plain": [
       "<Figure size 432x288 with 1 Axes>"
      ]
     },
     "metadata": {
      "needs_background": "light"
     },
     "output_type": "display_data"
    }
   ],
   "source": [
    "wild_image_neutralize(2,folder_address)"
   ]
  },
  {
   "cell_type": "markdown",
   "metadata": {},
   "source": [
    "Another original and generated picture can be seen below."
   ]
  },
  {
   "cell_type": "code",
   "execution_count": 49,
   "metadata": {},
   "outputs": [
    {
     "data": {
      "image/png": "[encoded data removed]",
      "text/plain": [
       "<Figure size 432x288 with 1 Axes>"
      ]
     },
     "metadata": {
      "needs_background": "light"
     },
     "output_type": "display_data"
    }
   ],
   "source": [
    "visualize_wild_image(5,folder_address)"
   ]
  },
  {
   "cell_type": "code",
   "execution_count": 50,
   "metadata": {},
   "outputs": [
    {
     "data": {
      "image/png": "[encoded data removed]",
      "text/plain": [
       "<Figure size 432x288 with 1 Axes>"
      ]
     },
     "metadata": {
      "needs_background": "light"
     },
     "output_type": "display_data"
    }
   ],
   "source": [
    "wild_image_neutralize(5,folder_address)"
   ]
  },
  {
   "cell_type": "markdown",
   "metadata": {},
   "source": [
    "This is the last example. Nevertheless, the model cannot neutralize it properly. Probably, the beard of person prevented the model from neutralizing the expression."
   ]
  },
  {
   "cell_type": "code",
   "execution_count": 64,
   "metadata": {},
   "outputs": [
    {
     "data": {
      "image/png": "[encoded data removed]",
      "text/plain": [
       "<Figure size 432x288 with 1 Axes>"
      ]
     },
     "metadata": {
      "needs_background": "light"
     },
     "output_type": "display_data"
    }
   ],
   "source": [
    "visualize_wild_image(16,folder_address)"
   ]
  },
  {
   "cell_type": "code",
   "execution_count": 65,
   "metadata": {},
   "outputs": [
    {
     "data": {
      "image/png": "[encoded data removed]",
      "text/plain": [
       "<Figure size 432x288 with 1 Axes>"
      ]
     },
     "metadata": {
      "needs_background": "light"
     },
     "output_type": "display_data"
    }
   ],
   "source": [
    "wild_image_neutralize(16,folder_address)"
   ]
  },
  {
   "cell_type": "markdown",
   "metadata": {},
   "source": [
    "save_tr_images(),save_te_images() functions are used to save images that are included to report, when you want to use them again, carefully adjust the saving path for pictures. Otherwise,you will create a mess."
   ]
  },
  {
   "cell_type": "code",
   "execution_count": 52,
   "metadata": {},
   "outputs": [],
   "source": [
    "save_tr_images(30)\n",
    "save_tr_images(50)\n",
    "save_tr_images(27)\n",
    "\n",
    "save_te_images(2)\n",
    "save_te_images(4)\n",
    "save_te_images(6)\n",
    "save_te_images(9)\n",
    "\n",
    "\n",
    "save_wild(0,folder_address)\n",
    "save_wild(1,folder_address)\n",
    "save_wild(2,folder_address)\n",
    "save_wild(3,folder_address)\n",
    "save_wild(4,folder_address)\n",
    "save_wild(5,folder_address)\n",
    "save_wild(6,folder_address)\n",
    "save_wild(7,folder_address)\n",
    "save_wild(8,folder_address)\n",
    "save_wild(9,folder_address)\n",
    "save_wild(10,folder_address)\n",
    "save_wild(11,folder_address)\n",
    "save_wild(12,folder_address)\n",
    "save_wild(13,folder_address)\n",
    "save_wild(14,folder_address)\n",
    "save_wild(15,folder_address)\n",
    "save_wild(16,folder_address)"
   ]
  },
  {
   "attachments": {},
   "cell_type": "markdown",
   "metadata": {},
   "source": [
    "# References\n",
    "Zhou, Yuqian, and Bertram Emil Shi. “Photorealistic Facial Expression Synthesis by the Conditional Difference Adversarial Autoencoder.” 2017 Seventh International Conference on Affective Computing and Intelligent Interaction (ACII), 2017, doi:10.1109/acii.2017.8273626.Age Progression/Regression by Conditional Adversarial Autoencoder \n",
    "\n",
    "Zhang, Zhifei, et al. “Age Progression/Regression by Conditional Adversarial Autoencoder.” 2017 IEEE Conference on Computer Vision and Pattern Recognition (CVPR), 2017, doi:10.1109/cvpr.2017.463.\n",
    "\n",
    "Lucey, P., Cohn, J. F., Kanade, T., Saragih, J., Ambadar, Z., & Matthews, I. (2010). The Extended Cohn-Kanade Dataset (CK+): A complete expression dataset for action unit and emotion-specified expression. Proceedings of the Third International Workshop on CVPR for Human Communicative Behavior Analysis (CVPR4HB 2010), San Francisco, USA, 94-101.\n",
    "\n",
    "“Generative Adversarial Networks Using Tensorflow.” Towards Data Science, Towards Data Science, 28 Aug. 2018, towardsdatascience.com/generative-adversarial-networks-using-tensorflow-c8f4518406df.\n",
    "\n",
    "\n",
    "Michael J. Lyons, Shigeru Akamatsu, Miyuki Kamachi, Jiro Gyoba.\n",
    "Coding Facial Expressions with Gabor Wavelets, 3rd IEEE International Conference on Automatic Face and Gesture Recognition, pp. 200-205 (1998).\n",
    "http://doi.org/10.1109/AFGR.1998.670949\n",
    "\n",
    "\n",
    "Liu, Z., Luo, P., Wang, X., and Tang, X. Deep learning face attributes in the wild. In Proceedings of the IEEE International Conference on Computer Vision, pp. 3730– 3738, 2015.\n"
   ]
  }
 ],
 "metadata": {
  "kernelspec": {
   "display_name": "Python 2",
   "language": "python",
   "name": "python2"
  },
  "language_info": {
   "codemirror_mode": {
    "name": "ipython",
    "version": 2
   },
   "file_extension": ".py",
   "mimetype": "text/x-python",
   "name": "python",
   "nbconvert_exporter": "python",
   "pygments_lexer": "ipython2",
   "version": "2.7.15"
  }
 },
 "nbformat": 4,
 "nbformat_minor": 2
}
